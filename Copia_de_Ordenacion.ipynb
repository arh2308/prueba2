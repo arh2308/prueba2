{
  "nbformat": 4,
  "nbformat_minor": 0,
  "metadata": {
    "colab": {
      "name": "Copia de Ordenacion.ipynb",
      "provenance": [],
      "collapsed_sections": [],
      "authorship_tag": "ABX9TyM87jYBD91bmwyJHK9JFt0J",
      "include_colab_link": true
    },
    "kernelspec": {
      "name": "python3",
      "display_name": "Python 3"
    }
  },
  "cells": [
    {
      "cell_type": "markdown",
      "metadata": {
        "id": "view-in-github",
        "colab_type": "text"
      },
      "source": [
        "<a href=\"https://colab.research.google.com/github/arh2308/prueba2/blob/main/Copia_de_Ordenacion.ipynb\" target=\"_parent\"><img src=\"https://colab.research.google.com/assets/colab-badge.svg\" alt=\"Open In Colab\"/></a>"
      ]
    },
    {
      "cell_type": "code",
      "metadata": {
        "colab": {
          "base_uri": "https://localhost:8080/"
        },
        "id": "KxBUZhKKTcq6",
        "outputId": "c280818b-21fb-4dcd-c7a1-18461dc3e19c"
      },
      "source": [
        "#ordenacion por insercion\n",
        "\n",
        "import math\n",
        "import timeit\n",
        "\n",
        "tabla = [3,6,12,14,8,13,1,9,5,4,27,23,4,23,76,4]\n",
        "\n",
        "print (tabla)\n",
        "\n",
        "def insercion(lista):\n",
        "  i=0\n",
        "  j=0 \n",
        "  for j in range(len(lista)-1):\n",
        "    i=j+1\n",
        "    if lista[i] < lista[i-1]:\n",
        "      valor = lista[i]\n",
        "      while valor < lista[i-1] and i>0:\n",
        "        lista[i] = lista[i-1]\n",
        "        lista[i-1] = valor\n",
        "        i-=1\n",
        "  return (lista)\n",
        "\n",
        "%time print (insercion(tabla))\n"
      ],
      "execution_count": null,
      "outputs": [
        {
          "output_type": "stream",
          "text": [
            "[3, 6, 12, 14, 8, 13, 1, 9, 5, 4, 27, 23, 4, 23, 76, 4]\n",
            "[1, 3, 4, 4, 4, 5, 6, 8, 9, 12, 13, 14, 23, 23, 27, 76]\n",
            "CPU times: user 143 µs, sys: 23 µs, total: 166 µs\n",
            "Wall time: 142 µs\n"
          ],
          "name": "stdout"
        }
      ]
    },
    {
      "cell_type": "code",
      "metadata": {
        "colab": {
          "base_uri": "https://localhost:8080/"
        },
        "id": "UgcKLIKvUtIO",
        "outputId": "5f36b7e3-ea24-4b40-ca47-41309bf5a2e8"
      },
      "source": [
        "#ordenacion por burbuja\n",
        "\n",
        "import math\n",
        "import timeit\n",
        "\n",
        "tabla = [3,6,12,14,8,13,1,9,5,4,27,23,4,23,76,4]\n",
        "\n",
        "print (tabla)\n",
        "\n",
        "def burbuja(lista):\n",
        "  i=0\n",
        "  j=0\n",
        "  for j in range(len(lista)):\n",
        "    for i in range(len(lista)-1):\n",
        "      if lista[i] > lista[i+1]:\n",
        "        valor = lista[i]\n",
        "        lista[i] = lista[i+1]\n",
        "        lista[i+1] = valor\n",
        "  return (lista)\n",
        "\n",
        "\n",
        "%time print (burbuja(tabla))\n"
      ],
      "execution_count": null,
      "outputs": [
        {
          "output_type": "stream",
          "text": [
            "[3, 6, 12, 14, 8, 13, 1, 9, 5, 4, 27, 23, 4, 23, 76, 4]\n",
            "[1, 3, 4, 4, 4, 5, 6, 8, 9, 12, 13, 14, 23, 23, 27, 76]\n",
            "CPU times: user 81 µs, sys: 0 ns, total: 81 µs\n",
            "Wall time: 84.4 µs\n"
          ],
          "name": "stdout"
        }
      ]
    },
    {
      "cell_type": "code",
      "metadata": {
        "colab": {
          "base_uri": "https://localhost:8080/"
        },
        "id": "X_KSx3PScKBg",
        "outputId": "e71f8044-87cd-434d-dbb0-3b8bc140f775"
      },
      "source": [
        "#ordenacion por seleccion\n",
        "\n",
        "import math\n",
        "import timeit\n",
        "import numpy as np\n",
        "\n",
        "tabla = [3,6,12,14,8,13,1,9,5,4,27,23,4,23,76,4]\n",
        "\n",
        "print (tabla)\n",
        "\n",
        "def seleccion(lista):\n",
        "  i=0\n",
        "\n",
        "  auxlista = lista.copy()\n",
        "\n",
        "  for i in range(len(lista)):\n",
        "    valor = auxlista[0]\n",
        "    valormin = min(auxlista)\n",
        "    auxlista[auxlista.index(min(auxlista))]=valor\n",
        "    lista[i] = valormin\n",
        "    del auxlista[0]\n",
        "  return lista\n",
        "\n",
        "%time print (seleccion(tabla))\n",
        "\n",
        "  "
      ],
      "execution_count": null,
      "outputs": [
        {
          "output_type": "stream",
          "text": [
            "[3, 6, 12, 14, 8, 13, 1, 9, 5, 4, 27, 23, 4, 23, 76, 4]\n",
            "[1, 3, 4, 4, 4, 5, 6, 8, 9, 12, 13, 14, 23, 23, 27, 76]\n",
            "CPU times: user 94 µs, sys: 11 µs, total: 105 µs\n",
            "Wall time: 110 µs\n"
          ],
          "name": "stdout"
        }
      ]
    }
  ]
}